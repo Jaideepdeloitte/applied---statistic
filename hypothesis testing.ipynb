{
 "cells": [
  {
   "cell_type": "code",
   "execution_count": 23,
   "id": "f4ba544e",
   "metadata": {},
   "outputs": [],
   "source": [
    "import scipy\n",
    "from scipy import stats\n"
   ]
  },
  {
   "cell_type": "code",
   "execution_count": 24,
   "id": "9e95e586",
   "metadata": {},
   "outputs": [],
   "source": [
    "df = {'observe': [41,70],'expected': [33,67]}\n",
    "df1 = pd.DataFrame(df)"
   ]
  },
  {
   "cell_type": "code",
   "execution_count": 25,
   "id": "109e3473",
   "metadata": {},
   "outputs": [
    {
     "data": {
      "text/html": [
       "<div>\n",
       "<style scoped>\n",
       "    .dataframe tbody tr th:only-of-type {\n",
       "        vertical-align: middle;\n",
       "    }\n",
       "\n",
       "    .dataframe tbody tr th {\n",
       "        vertical-align: top;\n",
       "    }\n",
       "\n",
       "    .dataframe thead th {\n",
       "        text-align: right;\n",
       "    }\n",
       "</style>\n",
       "<table border=\"1\" class=\"dataframe\">\n",
       "  <thead>\n",
       "    <tr style=\"text-align: right;\">\n",
       "      <th></th>\n",
       "      <th>observe</th>\n",
       "      <th>expected</th>\n",
       "    </tr>\n",
       "  </thead>\n",
       "  <tbody>\n",
       "    <tr>\n",
       "      <th>0</th>\n",
       "      <td>41</td>\n",
       "      <td>33</td>\n",
       "    </tr>\n",
       "    <tr>\n",
       "      <th>1</th>\n",
       "      <td>70</td>\n",
       "      <td>67</td>\n",
       "    </tr>\n",
       "  </tbody>\n",
       "</table>\n",
       "</div>"
      ],
      "text/plain": [
       "   observe  expected\n",
       "0       41        33\n",
       "1       70        67"
      ]
     },
     "execution_count": 25,
     "metadata": {},
     "output_type": "execute_result"
    }
   ],
   "source": [
    "df1"
   ]
  },
  {
   "cell_type": "code",
   "execution_count": 26,
   "id": "23faf4c1",
   "metadata": {},
   "outputs": [],
   "source": [
    "df1['dev'] = df1['observe']-df1['expected']"
   ]
  },
  {
   "cell_type": "code",
   "execution_count": 27,
   "id": "8be32b22",
   "metadata": {},
   "outputs": [],
   "source": [
    "chi = sum((df1['dev']**2)/df1['expected'])"
   ]
  },
  {
   "cell_type": "code",
   "execution_count": 28,
   "id": "1efaa4ef",
   "metadata": {},
   "outputs": [
    {
     "data": {
      "text/plain": [
       "2.073722297602895"
      ]
     },
     "execution_count": 28,
     "metadata": {},
     "output_type": "execute_result"
    }
   ],
   "source": [
    "chi"
   ]
  },
  {
   "cell_type": "code",
   "execution_count": 29,
   "id": "844b4f34",
   "metadata": {},
   "outputs": [],
   "source": [
    "p_value = scipy.stats.chi2.ppf(0.5,1)"
   ]
  },
  {
   "cell_type": "code",
   "execution_count": 30,
   "id": "7dc2a5fd",
   "metadata": {},
   "outputs": [
    {
     "name": "stdout",
     "output_type": "stream",
     "text": [
      "p value is 0.454936423119572\n",
      "\n",
      "since p is more than alpha, we ccept the null hypothesis\n"
     ]
    }
   ],
   "source": [
    "if p_value < 0.05:\n",
    "    print('P value is' , p_value)\n",
    "    print()\n",
    "    print('since p is less than alpha we reject the null hypothesis')\n",
    "else:\n",
    "    print('p value is', p_value)\n",
    "    print()\n",
    "    print('since p is more than alpha, we ccept the null hypothesis')"
   ]
  },
  {
   "cell_type": "code",
   "execution_count": null,
   "id": "67a0d5e7",
   "metadata": {},
   "outputs": [],
   "source": []
  }
 ],
 "metadata": {
  "kernelspec": {
   "display_name": "Python 3 (ipykernel)",
   "language": "python",
   "name": "python3"
  },
  "language_info": {
   "codemirror_mode": {
    "name": "ipython",
    "version": 3
   },
   "file_extension": ".py",
   "mimetype": "text/x-python",
   "name": "python",
   "nbconvert_exporter": "python",
   "pygments_lexer": "ipython3",
   "version": "3.9.12"
  }
 },
 "nbformat": 4,
 "nbformat_minor": 5
}
