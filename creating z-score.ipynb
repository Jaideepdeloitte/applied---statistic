{
 "cells": [
  {
   "cell_type": "code",
   "execution_count": 1,
   "id": "c6fba634",
   "metadata": {},
   "outputs": [
    {
     "name": "stdout",
     "output_type": "stream",
     "text": [
      "[[ 0.99421795  0.05630156 -0.1620629 ]\n",
      " [ 1.46834546  0.01714682 -1.04429181]]\n"
     ]
    }
   ],
   "source": [
    "from numpy import random\n",
    "\n",
    "x = random.normal(size=(2, 3))\n",
    "\n",
    "print(x)\n"
   ]
  },
  {
   "cell_type": "code",
   "execution_count": 3,
   "id": "f6865c33",
   "metadata": {},
   "outputs": [],
   "source": [
    "import pandas as pd"
   ]
  },
  {
   "cell_type": "code",
   "execution_count": 4,
   "id": "efb855e8",
   "metadata": {
    "scrolled": true
   },
   "outputs": [],
   "source": [
    "data_frame = pd.DataFrame(data=x)"
   ]
  },
  {
   "cell_type": "code",
   "execution_count": 5,
   "id": "c9bbf296",
   "metadata": {},
   "outputs": [],
   "source": [
    "data_frame.to_csv('data.csv')"
   ]
  },
  {
   "cell_type": "code",
   "execution_count": 6,
   "id": "ddf933bb",
   "metadata": {},
   "outputs": [],
   "source": [
    "d = pd.read_csv('data.csv')"
   ]
  },
  {
   "cell_type": "code",
   "execution_count": 7,
   "id": "d3a1bc91",
   "metadata": {},
   "outputs": [
    {
     "data": {
      "text/html": [
       "<div>\n",
       "<style scoped>\n",
       "    .dataframe tbody tr th:only-of-type {\n",
       "        vertical-align: middle;\n",
       "    }\n",
       "\n",
       "    .dataframe tbody tr th {\n",
       "        vertical-align: top;\n",
       "    }\n",
       "\n",
       "    .dataframe thead th {\n",
       "        text-align: right;\n",
       "    }\n",
       "</style>\n",
       "<table border=\"1\" class=\"dataframe\">\n",
       "  <thead>\n",
       "    <tr style=\"text-align: right;\">\n",
       "      <th></th>\n",
       "      <th>Unnamed: 0</th>\n",
       "      <th>0</th>\n",
       "      <th>1</th>\n",
       "      <th>2</th>\n",
       "    </tr>\n",
       "  </thead>\n",
       "  <tbody>\n",
       "    <tr>\n",
       "      <th>0</th>\n",
       "      <td>0</td>\n",
       "      <td>0.994218</td>\n",
       "      <td>0.056302</td>\n",
       "      <td>-0.162063</td>\n",
       "    </tr>\n",
       "    <tr>\n",
       "      <th>1</th>\n",
       "      <td>1</td>\n",
       "      <td>1.468345</td>\n",
       "      <td>0.017147</td>\n",
       "      <td>-1.044292</td>\n",
       "    </tr>\n",
       "  </tbody>\n",
       "</table>\n",
       "</div>"
      ],
      "text/plain": [
       "   Unnamed: 0         0         1         2\n",
       "0           0  0.994218  0.056302 -0.162063\n",
       "1           1  1.468345  0.017147 -1.044292"
      ]
     },
     "execution_count": 7,
     "metadata": {},
     "output_type": "execute_result"
    }
   ],
   "source": [
    "d"
   ]
  },
  {
   "cell_type": "code",
   "execution_count": 13,
   "id": "603dea9e",
   "metadata": {},
   "outputs": [],
   "source": [
    "from scipy.stats import ttest_1samp\n",
    "import numpy as np"
   ]
  },
  {
   "cell_type": "code",
   "execution_count": 20,
   "id": "b9d9d1c0",
   "metadata": {},
   "outputs": [
    {
     "name": "stdout",
     "output_type": "stream",
     "text": [
      "Unnamed: 0    0.256475\n",
      "0             0.891549\n",
      "1             0.191464\n",
      "2             0.443609\n",
      "Name: 0, dtype: float64 0.22211415333295811\n"
     ]
    }
   ],
   "source": [
    "mean = sum(x) / len(x)\n",
    "differences = [(x - mean)**2 for i in x]\n",
    "sum_of_differences = sum(differences)\n",
    "standard_deviation = (sum_of_differences / (len(x) - 1)) ** 0.5\n",
    "\n",
    "print(standard_deviation,  mean)"
   ]
  },
  {
   "cell_type": "code",
   "execution_count": 21,
   "id": "08bd7554",
   "metadata": {},
   "outputs": [
    {
     "name": "stdout",
     "output_type": "stream",
     "text": [
      "[Unnamed: 0   -0.866025\n",
      "0             0.866025\n",
      "1            -0.866025\n",
      "2            -0.866025\n",
      "Name: 0, dtype: float64, Unnamed: 0   -0.866025\n",
      "0             0.866025\n",
      "1            -0.866025\n",
      "2            -0.866025\n",
      "Name: 0, dtype: float64, Unnamed: 0   -0.866025\n",
      "0             0.866025\n",
      "1            -0.866025\n",
      "2            -0.866025\n",
      "Name: 0, dtype: float64, Unnamed: 0   -0.866025\n",
      "0             0.866025\n",
      "1            -0.866025\n",
      "2            -0.866025\n",
      "Name: 0, dtype: float64]\n"
     ]
    }
   ],
   "source": [
    "zscores = [(x - mean) / standard_deviation for value in x]\n",
    "\n",
    "print(zscores)"
   ]
  },
  {
   "cell_type": "code",
   "execution_count": 22,
   "id": "c8447e74",
   "metadata": {},
   "outputs": [],
   "source": [
    "import matplotlib.pyplot as plt"
   ]
  },
  {
   "cell_type": "code",
   "execution_count": 25,
   "id": "d1c42ccf",
   "metadata": {},
   "outputs": [
    {
     "data": {
      "image/png": "[encoded data removed]",
      "text/plain": [
       "<Figure size 432x288 with 1 Axes>"
      ]
     },
     "metadata": {
      "needs_background": "light"
     },
     "output_type": "display_data"
    }
   ],
   "source": [
    "plt.plot(zscores)\n",
    "\n",
    "plt.show()"
   ]
  },
  {
   "cell_type": "code",
   "execution_count": null,
   "id": "1c580e2d",
   "metadata": {},
   "outputs": [],
   "source": []
  }
 ],
 "metadata": {
  "kernelspec": {
   "display_name": "Python 3 (ipykernel)",
   "language": "python",
   "name": "python3"
  },
  "language_info": {
   "codemirror_mode": {
    "name": "ipython",
    "version": 3
   },
   "file_extension": ".py",
   "mimetype": "text/x-python",
   "name": "python",
   "nbconvert_exporter": "python",
   "pygments_lexer": "ipython3",
   "version": "3.9.12"
  }
 },
 "nbformat": 4,
 "nbformat_minor": 5
}
