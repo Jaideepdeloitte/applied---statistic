{
 "cells": [
  {
   "cell_type": "code",
   "execution_count": 1,
   "id": "55520d21",
   "metadata": {},
   "outputs": [
    {
     "name": "stdout",
     "output_type": "stream",
     "text": [
      "%pylab is deprecated, use %matplotlib inline and import the required libraries.\n",
      "Populating the interactive namespace from numpy and matplotlib\n"
     ]
    }
   ],
   "source": [
    "get_ipython().run_line_magic('pylab', 'inline')\n",
    "import numpy as np"
   ]
  },
  {
   "cell_type": "code",
   "execution_count": 2,
   "id": "d92440b0",
   "metadata": {},
   "outputs": [
    {
     "data": {
      "text/plain": [
       "array([[8., 6., 7.],\n",
       "       [5., 1., 3.]])"
      ]
     },
     "execution_count": 2,
     "metadata": {},
     "output_type": "execute_result"
    }
   ],
   "source": [
    "#### We start with positive weights that don't sum to 1\n",
    "P=np.array([[8.,6,7],[5,1,3]])\n",
    "P2=copy(P)\n",
    "P"
   ]
  },
  {
   "cell_type": "code",
   "execution_count": 3,
   "id": "e5737491",
   "metadata": {},
   "outputs": [
    {
     "name": "stdout",
     "output_type": "stream",
     "text": [
      "the sum is  30.0\n"
     ]
    },
    {
     "data": {
      "text/plain": [
       "array([[0.26666667, 0.2       , 0.23333333],\n",
       "       [0.16666667, 0.03333333, 0.1       ]])"
      ]
     },
     "execution_count": 3,
     "metadata": {},
     "output_type": "execute_result"
    }
   ],
   "source": [
    "# We then normalize the weights\n",
    "# using Pure Python\n",
    "\n",
    "#Compute the sum\n",
    "s=0\n",
    "for i in range(shape(P)[0]):\n",
    "    for j in range(shape(P)[1]):\n",
    "        s+=P[i,j]\n",
    "print('the sum is ',s)\n",
    "#divide by the sum\n",
    "for i in range(shape(P)[0]):\n",
    "    for j in range(shape(P)[1]):\n",
    "        P[i,j] /= s\n",
    "P"
   ]
  },
  {
   "cell_type": "code",
   "execution_count": 4,
   "id": "6b8f6059",
   "metadata": {},
   "outputs": [
    {
     "data": {
      "text/plain": [
       "array([[0.26666667, 0.2       , 0.23333333],\n",
       "       [0.16666667, 0.03333333, 0.1       ]])"
      ]
     },
     "execution_count": 4,
     "metadata": {},
     "output_type": "execute_result"
    }
   ],
   "source": [
    "# Using Numpy we can write it in a much shorter way\n",
    "P2/=sum(P2)\n",
    "P2"
   ]
  },
  {
   "cell_type": "code",
   "execution_count": 5,
   "id": "f3ac3cc7",
   "metadata": {},
   "outputs": [],
   "source": [
    "# The values that the random variables x and y take\n",
    "x=np.array([2,3,5])\n",
    "y=np.array([-1,1])"
   ]
  },
  {
   "cell_type": "code",
   "execution_count": 6,
   "id": "88ad7645",
   "metadata": {},
   "outputs": [
    {
     "data": {
      "text/plain": [
       "([0.43333333333333335, 0.23333333333333334, 0.33333333333333337], [0.7, 0.3])"
      ]
     },
     "execution_count": 6,
     "metadata": {},
     "output_type": "execute_result"
    }
   ],
   "source": [
    "# The pure python way\n",
    "Px=[0.]*shape(P)[1]\n",
    "Py=[0.]*shape(P)[0]\n",
    "\n",
    "for i in range(len(Px)):\n",
    "    for j in range(len(Py)):\n",
    "        Px[i]+=P[j,i]\n",
    "        Py[j]+=P[j,i]\n",
    "Px,Py"
   ]
  },
  {
   "cell_type": "code",
   "execution_count": 7,
   "id": "159d985b",
   "metadata": {},
   "outputs": [
    {
     "data": {
      "text/plain": [
       "(array([0.43333333, 0.23333333, 0.33333333]), array([0.7, 0.3]))"
      ]
     },
     "execution_count": 7,
     "metadata": {},
     "output_type": "execute_result"
    }
   ],
   "source": [
    "#the numpy way:\n",
    "Px=sum(P,axis=0)\n",
    "Py=sum(P,axis=1)\n",
    "Px,Py"
   ]
  },
  {
   "cell_type": "code",
   "execution_count": 8,
   "id": "e5a8a85f",
   "metadata": {},
   "outputs": [
    {
     "name": "stdout",
     "output_type": "stream",
     "text": [
      "Px[0]*Py[0] != P[0,0] ::::: 0.433*0.700 = 0.303 != 0.267\n",
      "Px[0]*Py[1] != P[1,0] ::::: 0.433*0.300 = 0.130 != 0.167\n",
      "Px[1]*Py[0] != P[0,1] ::::: 0.233*0.700 = 0.163 != 0.200\n",
      "Px[1]*Py[1] != P[1,1] ::::: 0.233*0.300 = 0.070 != 0.033\n"
     ]
    }
   ],
   "source": [
    "# The pure python way\n",
    "for i in range(len(Px)):\n",
    "    for j in range(len(Py)):\n",
    "        if Px[i]*Py[j] != P[j,i]:\n",
    "            print(\"Px[%d]*Py[%d] != P[%d,%d] ::::: %5.3f*%5.3f = %5.3f != %5.3f\"%(i,j,j,i,Px[i],Py[j],Px[i]*Py[j],P[j,i]))"
   ]
  },
  {
   "cell_type": "code",
   "execution_count": 9,
   "id": "c6d8017c",
   "metadata": {},
   "outputs": [
    {
     "data": {
      "text/plain": [
       "array([[ 0.03666667, -0.03666667,  0.        ],\n",
       "       [-0.03666667,  0.03666667,  0.        ]])"
      ]
     },
     "execution_count": 9,
     "metadata": {},
     "output_type": "execute_result"
    }
   ],
   "source": [
    "# The numpy way\n",
    "np.outer(Px,Py).T - P"
   ]
  },
  {
   "cell_type": "code",
   "execution_count": 10,
   "id": "d40c55f6",
   "metadata": {},
   "outputs": [
    {
     "data": {
      "text/plain": [
       "(3.2333333333333334,\n",
       " -0.39999999999999997,\n",
       " 1.3085190950927015,\n",
       " 0.9165151389911679)"
      ]
     },
     "execution_count": 10,
     "metadata": {},
     "output_type": "execute_result"
    }
   ],
   "source": [
    "from math import sqrt\n",
    "#The python way\n",
    "Ex = 0\n",
    "for i in range(3):\n",
    "    Ex+=Px[i]*x[i]\n",
    "Ey = 0\n",
    "for i in range(2):\n",
    "    Ey+=Py[i]*y[i]\n",
    "\n",
    "varx = 0\n",
    "for i in range(3):\n",
    "    varx+=Px[i]*(x[i] - Ex)**2\n",
    "stdx = sqrt(varx)\n",
    "\n",
    "vary = 0\n",
    "for i in range(2):\n",
    "    vary+=Py[i]*(y[i] - Ey)**2\n",
    "stdy = sqrt(vary)\n",
    "\n",
    "Ex,Ey,stdx,stdy"
   ]
  },
  {
   "cell_type": "code",
   "execution_count": 11,
   "id": "17ebf356",
   "metadata": {},
   "outputs": [
    {
     "name": "stdout",
     "output_type": "stream",
     "text": [
      "Ex=3.233333,Ey=-0.400000,stdx=1.308519,stdy=0.916515\n"
     ]
    }
   ],
   "source": [
    "# In numpy you can use np.dot(A,B) which calculates the pairwise product of elements in A and B\n",
    "# and sums them up\n",
    "Ex=np.dot(Px,x)\n",
    "Ey=np.dot(Py,y)\n",
    "Ex2=np.dot(Px,x**2)\n",
    "Ey2=np.dot(Py,y**2)\n",
    "stdx=sqrt(Ex2-Ex**2)\n",
    "stdy=sqrt(Ey2-Ey**2)\n",
    "print('Ex=%f,Ey=%f,stdx=%f,stdy=%f'%(Ex,Ey,stdx,stdy))"
   ]
  },
  {
   "cell_type": "code",
   "execution_count": 12,
   "id": "5e8a58a8",
   "metadata": {},
   "outputs": [
    {
     "data": {
      "text/plain": [
       "array([-1.23333333, -0.23333333,  1.76666667])"
      ]
     },
     "execution_count": 12,
     "metadata": {},
     "output_type": "execute_result"
    }
   ],
   "source": [
    "nx=x-Ex\n",
    "nx"
   ]
  },
  {
   "cell_type": "code",
   "execution_count": 13,
   "id": "f4167273",
   "metadata": {},
   "outputs": [
    {
     "data": {
      "text/plain": [
       "array([-0.6,  1.4])"
      ]
     },
     "execution_count": 13,
     "metadata": {},
     "output_type": "execute_result"
    }
   ],
   "source": [
    "ny=y-Ey\n",
    "ny"
   ]
  },
  {
   "cell_type": "code",
   "execution_count": 14,
   "id": "9944cc9a",
   "metadata": {},
   "outputs": [
    {
     "name": "stdout",
     "output_type": "stream",
     "text": [
      "the covariance is -0.07333333333333333\n"
     ]
    }
   ],
   "source": [
    "# in python\n",
    "s=0\n",
    "for i in range(len(x)):\n",
    "    for j in range(len(y)):\n",
    "        s+=P[j,i]*nx[i]*ny[j]\n",
    "print('the covariance is',s) #our expected values are now 0 so nothing to subtract"
   ]
  },
  {
   "cell_type": "code",
   "execution_count": 15,
   "id": "b2cb05cd",
   "metadata": {},
   "outputs": [
    {
     "name": "stdout",
     "output_type": "stream",
     "text": [
      "the covariance is -0.0733333333333333\n"
     ]
    }
   ],
   "source": [
    "# numpy\n",
    "\n",
    "print('the covariance is', np.dot(P.flatten(), np.outer(ny,nx).flatten()))"
   ]
  },
  {
   "cell_type": "code",
   "execution_count": 16,
   "id": "e0c68df0",
   "metadata": {},
   "outputs": [
    {
     "name": "stdout",
     "output_type": "stream",
     "text": [
      "2.0591260281974004\n"
     ]
    },
    {
     "name": "stderr",
     "output_type": "stream",
     "text": [
      "C:\\Users\\jaisaini\\AppData\\Local\\Temp\\ipykernel_3760\\1382792382.py:6: DeprecationWarning: Calling np.sum(generator) is deprecated, and in the future will give a different result. Use np.sum(np.fromiter(generator)) or the python sum builtin instead.\n",
      "  return sum((x - m) ** 2 for x in val) / (n - ddof)\n"
     ]
    }
   ],
   "source": [
    "import math\n",
    "# Finding the variance is essential before calculating the standard deviation\n",
    "def varinc(val, ddof=0):\n",
    "    n = len(val)\n",
    "    m = sum(val) / n\n",
    "    return sum((x - m) ** 2 for x in val) / (n - ddof)\n",
    "# finding the standard deviation\n",
    "def stddev(val):\n",
    "    vari = varinc(val)\n",
    "    stdev = math.sqrt(vari)\n",
    "    return stdev\n",
    "\n",
    "print(stddev([5, 9, 6, 2, 6, 3, 7, 4, 8, 6]))"
   ]
  },
  {
   "cell_type": "code",
   "execution_count": null,
   "id": "3320dc78",
   "metadata": {},
   "outputs": [],
   "source": []
  }
 ],
 "metadata": {
  "kernelspec": {
   "display_name": "Python 3 (ipykernel)",
   "language": "python",
   "name": "python3"
  },
  "language_info": {
   "codemirror_mode": {
    "name": "ipython",
    "version": 3
   },
   "file_extension": ".py",
   "mimetype": "text/x-python",
   "name": "python",
   "nbconvert_exporter": "python",
   "pygments_lexer": "ipython3",
   "version": "3.9.12"
  }
 },
 "nbformat": 4,
 "nbformat_minor": 5
}
