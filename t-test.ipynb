{
 "cells": [
  {
   "cell_type": "code",
   "execution_count": 4,
   "id": "7c1fcda3",
   "metadata": {},
   "outputs": [],
   "source": [
    "import numpy as np"
   ]
  },
  {
   "cell_type": "code",
   "execution_count": 5,
   "id": "b92b8cd4",
   "metadata": {},
   "outputs": [],
   "source": [
    "BeforeCourse = [44,40,61,52,32,44,70,41,67,72,53,72]\n",
    "AfterCourse = [53,38,69,57,46,39,73,48,73,74,60,78]"
   ]
  },
  {
   "cell_type": "code",
   "execution_count": 6,
   "id": "7d831297",
   "metadata": {},
   "outputs": [],
   "source": [
    "a = np.array(BeforeCourse)\n",
    "b = np.array(AfterCourse)"
   ]
  },
  {
   "cell_type": "code",
   "execution_count": 8,
   "id": "0e42f46d",
   "metadata": {},
   "outputs": [
    {
     "name": "stdout",
     "output_type": "stream",
     "text": [
      "181.33333333333334 187.5\n"
     ]
    }
   ],
   "source": [
    "print(np.var(a),np.var(b))"
   ]
  },
  {
   "cell_type": "code",
   "execution_count": 9,
   "id": "61523e07",
   "metadata": {},
   "outputs": [],
   "source": [
    "import scipy.stats as stats"
   ]
  },
  {
   "cell_type": "code",
   "execution_count": 10,
   "id": "81600018",
   "metadata": {},
   "outputs": [
    {
     "data": {
      "text/plain": [
       "Ttest_indResult(statistic=-0.8634779765555026, pvalue=0.39719111822605835)"
      ]
     },
     "execution_count": 10,
     "metadata": {},
     "output_type": "execute_result"
    }
   ],
   "source": [
    "stats.ttest_ind(a,b,equal_var= True)"
   ]
  },
  {
   "cell_type": "code",
   "execution_count": null,
   "id": "3ae6304c",
   "metadata": {},
   "outputs": [],
   "source": []
  }
 ],
 "metadata": {
  "kernelspec": {
   "display_name": "Python 3 (ipykernel)",
   "language": "python",
   "name": "python3"
  },
  "language_info": {
   "codemirror_mode": {
    "name": "ipython",
    "version": 3
   },
   "file_extension": ".py",
   "mimetype": "text/x-python",
   "name": "python",
   "nbconvert_exporter": "python",
   "pygments_lexer": "ipython3",
   "version": "3.9.12"
  }
 },
 "nbformat": 4,
 "nbformat_minor": 5
}
