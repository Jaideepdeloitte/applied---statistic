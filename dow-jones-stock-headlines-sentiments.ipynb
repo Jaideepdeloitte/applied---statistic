{
 "cells": [
  {
   "cell_type": "code",
   "execution_count": 1,
   "id": "3400f099",
   "metadata": {
    "_cell_guid": "b1076dfc-b9ad-4769-8c92-a6c4dae69d19",
    "_uuid": "8f2839f25d086af736a60e9eeb907d3b93b6e0e5",
    "execution": {
     "iopub.execute_input": "2022-08-07T11:42:49.036259Z",
     "iopub.status.busy": "2022-08-07T11:42:49.035320Z",
     "iopub.status.idle": "2022-08-07T11:42:49.064194Z",
     "shell.execute_reply": "2022-08-07T11:42:49.062833Z"
    },
    "papermill": {
     "duration": 0.042526,
     "end_time": "2022-08-07T11:42:49.066956",
     "exception": false,
     "start_time": "2022-08-07T11:42:49.024430",
     "status": "completed"
    },
    "tags": []
   },
   "outputs": [
    {
     "name": "stdout",
     "output_type": "stream",
     "text": [
      "/kaggle/input/stocknews/upload_DJIA_table.csv\n",
      "/kaggle/input/stocknews/Combined_News_DJIA.csv\n",
      "/kaggle/input/stocknews/RedditNews.csv\n"
     ]
    }
   ],
   "source": [
    "import numpy as np\n",
    "import pandas as pd\n",
    "import os\n",
    "for dirname, _, filenames in os.walk('/kaggle/input'):\n",
    "    for filename in filenames:\n",
    "        print(os.path.join(dirname, filename))"
   ]
  },
  {
   "cell_type": "code",
   "execution_count": 2,
   "id": "84eef099",
   "metadata": {
    "execution": {
     "iopub.execute_input": "2022-08-07T11:42:49.085687Z",
     "iopub.status.busy": "2022-08-07T11:42:49.084891Z",
     "iopub.status.idle": "2022-08-07T11:42:51.252502Z",
     "shell.execute_reply": "2022-08-07T11:42:51.251176Z"
    },
    "papermill": {
     "duration": 2.179967,
     "end_time": "2022-08-07T11:42:51.255456",
     "exception": false,
     "start_time": "2022-08-07T11:42:49.075489",
     "status": "completed"
    },
    "tags": []
   },
   "outputs": [
    {
     "name": "stderr",
     "output_type": "stream",
     "text": [
      "[nltk_data] Downloading package stopwords to /usr/share/nltk_data...\n",
      "[nltk_data]   Package stopwords is already up-to-date!\n"
     ]
    }
   ],
   "source": [
    "import re\n",
    "import matplotlib.pyplot as plt\n",
    "import seaborn as sns\n",
    "%matplotlib inline\n",
    "from random import randint\n",
    "import nltk\n",
    "nltk.download('stopwords')\n",
    "from nltk.corpus import stopwords\n",
    "from nltk.stem import PorterStemmer"
   ]
  },
  {
   "cell_type": "code",
   "execution_count": 3,
   "id": "744936d7",
   "metadata": {
    "execution": {
     "iopub.execute_input": "2022-08-07T11:42:51.274762Z",
     "iopub.status.busy": "2022-08-07T11:42:51.274026Z",
     "iopub.status.idle": "2022-08-07T11:42:51.532894Z",
     "shell.execute_reply": "2022-08-07T11:42:51.531106Z"
    },
    "papermill": {
     "duration": 0.27142,
     "end_time": "2022-08-07T11:42:51.535587",
     "exception": false,
     "start_time": "2022-08-07T11:42:51.264167",
     "status": "completed"
    },
    "tags": []
   },
   "outputs": [
    {
     "name": "stdout",
     "output_type": "stream",
     "text": [
      "(1986, 27)\n"
     ]
    },
    {
     "data": {
      "text/html": [
       "<div>\n",
       "<style scoped>\n",
       "    .dataframe tbody tr th:only-of-type {\n",
       "        vertical-align: middle;\n",
       "    }\n",
       "\n",
       "    .dataframe tbody tr th {\n",
       "        vertical-align: top;\n",
       "    }\n",
       "\n",
       "    .dataframe thead th {\n",
       "        text-align: right;\n",
       "    }\n",
       "</style>\n",
       "<table border=\"1\" class=\"dataframe\">\n",
       "  <thead>\n",
       "    <tr style=\"text-align: right;\">\n",
       "      <th></th>\n",
       "      <th>Date</th>\n",
       "      <th>Label</th>\n",
       "      <th>Top1</th>\n",
       "      <th>Top2</th>\n",
       "      <th>Top3</th>\n",
       "      <th>Top4</th>\n",
       "      <th>Top5</th>\n",
       "      <th>Top6</th>\n",
       "      <th>Top7</th>\n",
       "      <th>Top8</th>\n",
       "      <th>...</th>\n",
       "      <th>Top16</th>\n",
       "      <th>Top17</th>\n",
       "      <th>Top18</th>\n",
       "      <th>Top19</th>\n",
       "      <th>Top20</th>\n",
       "      <th>Top21</th>\n",
       "      <th>Top22</th>\n",
       "      <th>Top23</th>\n",
       "      <th>Top24</th>\n",
       "      <th>Top25</th>\n",
       "    </tr>\n",
       "  </thead>\n",
       "  <tbody>\n",
       "    <tr>\n",
       "      <th>0</th>\n",
       "      <td>2008-08-08</td>\n",
       "      <td>0</td>\n",
       "      <td>b\"Georgia 'downs two Russian warplanes' as cou...</td>\n",
       "      <td>b'BREAKING: Musharraf to be impeached.'</td>\n",
       "      <td>b'Russia Today: Columns of troops roll into So...</td>\n",
       "      <td>b'Russian tanks are moving towards the capital...</td>\n",
       "      <td>b\"Afghan children raped with 'impunity,' U.N. ...</td>\n",
       "      <td>b'150 Russian tanks have entered South Ossetia...</td>\n",
       "      <td>b\"Breaking: Georgia invades South Ossetia, Rus...</td>\n",
       "      <td>b\"The 'enemy combatent' trials are nothing but...</td>\n",
       "      <td>...</td>\n",
       "      <td>b'Georgia Invades South Ossetia - if Russia ge...</td>\n",
       "      <td>b'Al-Qaeda Faces Islamist Backlash'</td>\n",
       "      <td>b'Condoleezza Rice: \"The US would not act to p...</td>\n",
       "      <td>b'This is a busy day:  The European Union has ...</td>\n",
       "      <td>b\"Georgia will withdraw 1,000 soldiers from Ir...</td>\n",
       "      <td>b'Why the Pentagon Thinks Attacking Iran is a ...</td>\n",
       "      <td>b'Caucasus in crisis: Georgia invades South Os...</td>\n",
       "      <td>b'Indian shoe manufactory  - And again in a se...</td>\n",
       "      <td>b'Visitors Suffering from Mental Illnesses Ban...</td>\n",
       "      <td>b\"No Help for Mexico's Kidnapping Surge\"</td>\n",
       "    </tr>\n",
       "    <tr>\n",
       "      <th>1</th>\n",
       "      <td>2008-08-11</td>\n",
       "      <td>1</td>\n",
       "      <td>b'Why wont America and Nato help us? If they w...</td>\n",
       "      <td>b'Bush puts foot down on Georgian conflict'</td>\n",
       "      <td>b\"Jewish Georgian minister: Thanks to Israeli ...</td>\n",
       "      <td>b'Georgian army flees in disarray as Russians ...</td>\n",
       "      <td>b\"Olympic opening ceremony fireworks 'faked'\"</td>\n",
       "      <td>b'What were the Mossad with fraudulent New Zea...</td>\n",
       "      <td>b'Russia angered by Israeli military sale to G...</td>\n",
       "      <td>b'An American citizen living in S.Ossetia blam...</td>\n",
       "      <td>...</td>\n",
       "      <td>b'Israel and the US behind the Georgian aggres...</td>\n",
       "      <td>b'\"Do not believe TV, neither Russian nor Geor...</td>\n",
       "      <td>b'Riots are still going on in Montreal (Canada...</td>\n",
       "      <td>b'China to overtake US as largest manufacturer'</td>\n",
       "      <td>b'War in South Ossetia [PICS]'</td>\n",
       "      <td>b'Israeli Physicians Group Condemns State Tort...</td>\n",
       "      <td>b' Russia has just beaten the United States ov...</td>\n",
       "      <td>b'Perhaps *the* question about the Georgia - R...</td>\n",
       "      <td>b'Russia is so much better at war'</td>\n",
       "      <td>b\"So this is what it's come to: trading sex fo...</td>\n",
       "    </tr>\n",
       "  </tbody>\n",
       "</table>\n",
       "<p>2 rows × 27 columns</p>\n",
       "</div>"
      ],
      "text/plain": [
       "         Date  Label                                               Top1  \\\n",
       "0  2008-08-08      0  b\"Georgia 'downs two Russian warplanes' as cou...   \n",
       "1  2008-08-11      1  b'Why wont America and Nato help us? If they w...   \n",
       "\n",
       "                                          Top2  \\\n",
       "0      b'BREAKING: Musharraf to be impeached.'   \n",
       "1  b'Bush puts foot down on Georgian conflict'   \n",
       "\n",
       "                                                Top3  \\\n",
       "0  b'Russia Today: Columns of troops roll into So...   \n",
       "1  b\"Jewish Georgian minister: Thanks to Israeli ...   \n",
       "\n",
       "                                                Top4  \\\n",
       "0  b'Russian tanks are moving towards the capital...   \n",
       "1  b'Georgian army flees in disarray as Russians ...   \n",
       "\n",
       "                                                Top5  \\\n",
       "0  b\"Afghan children raped with 'impunity,' U.N. ...   \n",
       "1      b\"Olympic opening ceremony fireworks 'faked'\"   \n",
       "\n",
       "                                                Top6  \\\n",
       "0  b'150 Russian tanks have entered South Ossetia...   \n",
       "1  b'What were the Mossad with fraudulent New Zea...   \n",
       "\n",
       "                                                Top7  \\\n",
       "0  b\"Breaking: Georgia invades South Ossetia, Rus...   \n",
       "1  b'Russia angered by Israeli military sale to G...   \n",
       "\n",
       "                                                Top8  ...  \\\n",
       "0  b\"The 'enemy combatent' trials are nothing but...  ...   \n",
       "1  b'An American citizen living in S.Ossetia blam...  ...   \n",
       "\n",
       "                                               Top16  \\\n",
       "0  b'Georgia Invades South Ossetia - if Russia ge...   \n",
       "1  b'Israel and the US behind the Georgian aggres...   \n",
       "\n",
       "                                               Top17  \\\n",
       "0                b'Al-Qaeda Faces Islamist Backlash'   \n",
       "1  b'\"Do not believe TV, neither Russian nor Geor...   \n",
       "\n",
       "                                               Top18  \\\n",
       "0  b'Condoleezza Rice: \"The US would not act to p...   \n",
       "1  b'Riots are still going on in Montreal (Canada...   \n",
       "\n",
       "                                               Top19  \\\n",
       "0  b'This is a busy day:  The European Union has ...   \n",
       "1    b'China to overtake US as largest manufacturer'   \n",
       "\n",
       "                                               Top20  \\\n",
       "0  b\"Georgia will withdraw 1,000 soldiers from Ir...   \n",
       "1                     b'War in South Ossetia [PICS]'   \n",
       "\n",
       "                                               Top21  \\\n",
       "0  b'Why the Pentagon Thinks Attacking Iran is a ...   \n",
       "1  b'Israeli Physicians Group Condemns State Tort...   \n",
       "\n",
       "                                               Top22  \\\n",
       "0  b'Caucasus in crisis: Georgia invades South Os...   \n",
       "1  b' Russia has just beaten the United States ov...   \n",
       "\n",
       "                                               Top23  \\\n",
       "0  b'Indian shoe manufactory  - And again in a se...   \n",
       "1  b'Perhaps *the* question about the Georgia - R...   \n",
       "\n",
       "                                               Top24  \\\n",
       "0  b'Visitors Suffering from Mental Illnesses Ban...   \n",
       "1                 b'Russia is so much better at war'   \n",
       "\n",
       "                                               Top25  \n",
       "0           b\"No Help for Mexico's Kidnapping Surge\"  \n",
       "1  b\"So this is what it's come to: trading sex fo...  \n",
       "\n",
       "[2 rows x 27 columns]"
      ]
     },
     "execution_count": 3,
     "metadata": {},
     "output_type": "execute_result"
    }
   ],
   "source": [
    "df = pd.read_csv('/kaggle/input/stocknews/Combined_News_DJIA.csv', encoding = 'ISO-8859-1')\n",
    "df.dropna(inplace=True)\n",
    "print(df.shape)\n",
    "df.head(2)"
   ]
  },
  {
   "cell_type": "code",
   "execution_count": 4,
   "id": "e42b1b7e",
   "metadata": {
    "execution": {
     "iopub.execute_input": "2022-08-07T11:42:51.554193Z",
     "iopub.status.busy": "2022-08-07T11:42:51.553788Z",
     "iopub.status.idle": "2022-08-07T11:42:51.735229Z",
     "shell.execute_reply": "2022-08-07T11:42:51.733731Z"
    },
    "papermill": {
     "duration": 0.193922,
     "end_time": "2022-08-07T11:42:51.738048",
     "exception": false,
     "start_time": "2022-08-07T11:42:51.544126",
     "status": "completed"
    },
    "tags": []
   },
   "outputs": [
    {
     "data": {
      "image/png": "[encoded data removed]",
      "text/plain": [
       "<Figure size 576x576 with 1 Axes>"
      ]
     },
     "metadata": {
      "needs_background": "light"
     },
     "output_type": "display_data"
    }
   ],
   "source": [
    "plt.figure(figsize=(8,8))\n",
    "sns.countplot(x='Label', data=df)\n",
    "plt.xlabel('Stock Sentiments (0-Down/Same, 1-Up)')\n",
    "plt.ylabel('Count')\n",
    "plt.show()"
   ]
  },
  {
   "cell_type": "code",
   "execution_count": 5,
   "id": "4ffb7635",
   "metadata": {
    "execution": {
     "iopub.execute_input": "2022-08-07T11:42:51.758050Z",
     "iopub.status.busy": "2022-08-07T11:42:51.756921Z",
     "iopub.status.idle": "2022-08-07T11:42:51.773540Z",
     "shell.execute_reply": "2022-08-07T11:42:51.771971Z"
    },
    "papermill": {
     "duration": 0.029641,
     "end_time": "2022-08-07T11:42:51.776524",
     "exception": false,
     "start_time": "2022-08-07T11:42:51.746883",
     "status": "completed"
    },
    "tags": []
   },
   "outputs": [],
   "source": [
    "df_copy = df.copy()\n",
    "df_copy.reset_index(inplace=True)\n",
    "train = df_copy[df_copy['Date'] < '20150101']\n",
    "test = df_copy[df_copy['Date'] > '20141231']\n",
    "y_train = train['Label']\n",
    "train = train.iloc[:, 3:28]\n",
    "y_test = test['Label']\n",
    "test = test.iloc[:, 3:28]"
   ]
  },
  {
   "cell_type": "code",
   "execution_count": 6,
   "id": "c651f251",
   "metadata": {
    "execution": {
     "iopub.execute_input": "2022-08-07T11:42:51.796337Z",
     "iopub.status.busy": "2022-08-07T11:42:51.795300Z",
     "iopub.status.idle": "2022-08-07T11:42:52.230059Z",
     "shell.execute_reply": "2022-08-07T11:42:52.228806Z"
    },
    "papermill": {
     "duration": 0.448068,
     "end_time": "2022-08-07T11:42:52.233373",
     "exception": false,
     "start_time": "2022-08-07T11:42:51.785305",
     "status": "completed"
    },
    "tags": []
   },
   "outputs": [],
   "source": [
    "train.replace(to_replace='[^a-zA-Z]', value=' ', regex=True, inplace=True)\n",
    "test.replace(to_replace='[^a-zA-Z]', value=' ', regex=True, inplace=True)"
   ]
  },
  {
   "cell_type": "code",
   "execution_count": 7,
   "id": "a250d1b3",
   "metadata": {
    "execution": {
     "iopub.execute_input": "2022-08-07T11:42:52.252625Z",
     "iopub.status.busy": "2022-08-07T11:42:52.252215Z",
     "iopub.status.idle": "2022-08-07T11:42:52.315485Z",
     "shell.execute_reply": "2022-08-07T11:42:52.314201Z"
    },
    "papermill": {
     "duration": 0.076099,
     "end_time": "2022-08-07T11:42:52.318301",
     "exception": false,
     "start_time": "2022-08-07T11:42:52.242202",
     "status": "completed"
    },
    "tags": []
   },
   "outputs": [],
   "source": [
    "new_columns = [str(i) for i in range(0,25)]\n",
    "train.columns = new_columns\n",
    "test.columns = new_columns\n",
    "for i in new_columns:\n",
    "  train[i] = train[i].str.lower()\n",
    "  test[i] = test[i].str.lower()"
   ]
  },
  {
   "cell_type": "code",
   "execution_count": 8,
   "id": "3d1eda6d",
   "metadata": {
    "execution": {
     "iopub.execute_input": "2022-08-07T11:42:52.337685Z",
     "iopub.status.busy": "2022-08-07T11:42:52.337252Z",
     "iopub.status.idle": "2022-08-07T11:42:52.670506Z",
     "shell.execute_reply": "2022-08-07T11:42:52.669218Z"
    },
    "papermill": {
     "duration": 0.346555,
     "end_time": "2022-08-07T11:42:52.673716",
     "exception": false,
     "start_time": "2022-08-07T11:42:52.327161",
     "status": "completed"
    },
    "tags": []
   },
   "outputs": [],
   "source": [
    "train_headlines = []\n",
    "test_headlines = []\n",
    "for row in range(0, train.shape[0]):\n",
    "  train_headlines.append(' '.join(str(x) for x in train.iloc[row, 0:25]))\n",
    "for row in range(0, test.shape[0]):\n",
    "  test_headlines.append(' '.join(str(x) for x in test.iloc[row, 0:25]))"
   ]
  },
  {
   "cell_type": "code",
   "execution_count": 9,
   "id": "df98b13f",
   "metadata": {
    "execution": {
     "iopub.execute_input": "2022-08-07T11:42:52.693958Z",
     "iopub.status.busy": "2022-08-07T11:42:52.693421Z",
     "iopub.status.idle": "2022-08-07T11:45:11.910440Z",
     "shell.execute_reply": "2022-08-07T11:45:11.909486Z"
    },
    "papermill": {
     "duration": 139.230764,
     "end_time": "2022-08-07T11:45:11.913267",
     "exception": false,
     "start_time": "2022-08-07T11:42:52.682503",
     "status": "completed"
    },
    "tags": []
   },
   "outputs": [],
   "source": [
    "ps = PorterStemmer()\n",
    "train_corpus = []\n",
    "for i in range(0, len(train_headlines)):\n",
    "  words = train_headlines[i].split()\n",
    "  words = [word for word in words if word not in set(stopwords.words('english'))]\n",
    "  words = [ps.stem(word) for word in words]\n",
    "  headline = ' '.join(words)\n",
    "  train_corpus.append(headline)"
   ]
  },
  {
   "cell_type": "code",
   "execution_count": 10,
   "id": "57fa1d5e",
   "metadata": {
    "execution": {
     "iopub.execute_input": "2022-08-07T11:45:11.933521Z",
     "iopub.status.busy": "2022-08-07T11:45:11.932924Z",
     "iopub.status.idle": "2022-08-07T11:45:39.772559Z",
     "shell.execute_reply": "2022-08-07T11:45:39.771685Z"
    },
    "papermill": {
     "duration": 27.852711,
     "end_time": "2022-08-07T11:45:39.775194",
     "exception": false,
     "start_time": "2022-08-07T11:45:11.922483",
     "status": "completed"
    },
    "tags": []
   },
   "outputs": [],
   "source": [
    "test_corpus = []\n",
    "for i in range(0, len(test_headlines)):\n",
    "  words = test_headlines[i].split()\n",
    "  words = [word for word in words if word not in set(stopwords.words('english'))]\n",
    "  words = [ps.stem(word) for word in words]\n",
    "  headline = ' '.join(words)\n",
    "  test_corpus.append(headline)"
   ]
  },
  {
   "cell_type": "code",
   "execution_count": 11,
   "id": "296ee7c5",
   "metadata": {
    "execution": {
     "iopub.execute_input": "2022-08-07T11:45:39.796145Z",
     "iopub.status.busy": "2022-08-07T11:45:39.795509Z",
     "iopub.status.idle": "2022-08-07T11:45:39.804513Z",
     "shell.execute_reply": "2022-08-07T11:45:39.802774Z"
    },
    "papermill": {
     "duration": 0.022768,
     "end_time": "2022-08-07T11:45:39.807185",
     "exception": false,
     "start_time": "2022-08-07T11:45:39.784417",
     "status": "completed"
    },
    "tags": []
   },
   "outputs": [],
   "source": [
    "down_words = []\n",
    "for i in list(y_train[y_train==0].index):\n",
    "  down_words.append(train_corpus[i])\n",
    "up_words = []\n",
    "for i in list(y_train[y_train==1].index):\n",
    "  up_words.append(train_corpus[i])"
   ]
  },
  {
   "cell_type": "code",
   "execution_count": 14,
   "id": "0fbe1240",
   "metadata": {
    "execution": {
     "iopub.execute_input": "2022-08-07T11:46:12.773017Z",
     "iopub.status.busy": "2022-08-07T11:46:12.772265Z",
     "iopub.status.idle": "2022-08-07T11:46:15.155718Z",
     "shell.execute_reply": "2022-08-07T11:46:15.154528Z"
    },
    "papermill": {
     "duration": 2.404746,
     "end_time": "2022-08-07T11:46:15.158769",
     "exception": false,
     "start_time": "2022-08-07T11:46:12.754023",
     "status": "completed"
    },
    "tags": []
   },
   "outputs": [],
   "source": [
    "from sklearn.feature_extraction.text import CountVectorizer\n",
    "cv = CountVectorizer(max_features=10000, ngram_range=(2,2))\n",
    "X_train = cv.fit_transform(train_corpus).toarray()\n",
    "X_test = cv.transform(test_corpus).toarray()"
   ]
  },
  {
   "cell_type": "code",
   "execution_count": 15,
   "id": "6d08151d",
   "metadata": {
    "execution": {
     "iopub.execute_input": "2022-08-07T11:46:15.194425Z",
     "iopub.status.busy": "2022-08-07T11:46:15.193985Z",
     "iopub.status.idle": "2022-08-07T11:46:16.826786Z",
     "shell.execute_reply": "2022-08-07T11:46:16.825122Z"
    },
    "papermill": {
     "duration": 1.655904,
     "end_time": "2022-08-07T11:46:16.831127",
     "exception": false,
     "start_time": "2022-08-07T11:46:15.175223",
     "status": "completed"
    },
    "tags": []
   },
   "outputs": [],
   "source": [
    "from sklearn.linear_model import LogisticRegression\n",
    "lr_classifier = LogisticRegression()\n",
    "lr_classifier.fit(X_train, y_train)\n",
    "lr_y_pred = lr_classifier.predict(X_test)"
   ]
  },
  {
   "cell_type": "code",
   "execution_count": 16,
   "id": "9d2d0931",
   "metadata": {
    "execution": {
     "iopub.execute_input": "2022-08-07T11:46:16.912635Z",
     "iopub.status.busy": "2022-08-07T11:46:16.911350Z",
     "iopub.status.idle": "2022-08-07T11:46:16.930029Z",
     "shell.execute_reply": "2022-08-07T11:46:16.928434Z"
    },
    "papermill": {
     "duration": 0.063854,
     "end_time": "2022-08-07T11:46:16.934121",
     "exception": false,
     "start_time": "2022-08-07T11:46:16.870267",
     "status": "completed"
    },
    "tags": []
   },
   "outputs": [
    {
     "name": "stdout",
     "output_type": "stream",
     "text": [
      "Accuracy score is: 83.07%\n",
      "Precision score is: 0.83\n",
      "Recall score is: 0.83\n"
     ]
    }
   ],
   "source": [
    "from sklearn.metrics import accuracy_score, precision_score, recall_score\n",
    "score1 = accuracy_score(y_test, lr_y_pred)\n",
    "score2 = precision_score(y_test, lr_y_pred)\n",
    "score3 = recall_score(y_test, lr_y_pred)\n",
    "print(\"Accuracy score is: {}%\".format(round(score1*100,2)))\n",
    "print(\"Precision score is: {}\".format(round(score2,2)))\n",
    "print(\"Recall score is: {}\".format(round(score3,2)))"
   ]
  },
  {
   "cell_type": "code",
   "execution_count": 17,
   "id": "38abd466",
   "metadata": {
    "execution": {
     "iopub.execute_input": "2022-08-07T11:46:16.975701Z",
     "iopub.status.busy": "2022-08-07T11:46:16.974533Z",
     "iopub.status.idle": "2022-08-07T11:46:16.982844Z",
     "shell.execute_reply": "2022-08-07T11:46:16.981640Z"
    },
    "papermill": {
     "duration": 0.028349,
     "end_time": "2022-08-07T11:46:16.985071",
     "exception": false,
     "start_time": "2022-08-07T11:46:16.956722",
     "status": "completed"
    },
    "tags": []
   },
   "outputs": [
    {
     "data": {
      "text/plain": [
       "array([[154,  32],\n",
       "       [ 32, 160]])"
      ]
     },
     "execution_count": 17,
     "metadata": {},
     "output_type": "execute_result"
    }
   ],
   "source": [
    "from sklearn.metrics import confusion_matrix\n",
    "lr_cm = confusion_matrix(y_test, lr_y_pred)\n",
    "lr_cm"
   ]
  },
  {
   "cell_type": "code",
   "execution_count": 18,
   "id": "4e3bfb3c",
   "metadata": {
    "execution": {
     "iopub.execute_input": "2022-08-07T11:46:17.020248Z",
     "iopub.status.busy": "2022-08-07T11:46:17.019518Z",
     "iopub.status.idle": "2022-08-07T11:46:17.276959Z",
     "shell.execute_reply": "2022-08-07T11:46:17.275753Z"
    },
    "papermill": {
     "duration": 0.277861,
     "end_time": "2022-08-07T11:46:17.279482",
     "exception": false,
     "start_time": "2022-08-07T11:46:17.001621",
     "status": "completed"
    },
    "tags": []
   },
   "outputs": [
    {
     "data": {
      "image/png": "[encoded data removed]",
      "text/plain": [
       "<Figure size 720x504 with 2 Axes>"
      ]
     },
     "metadata": {
      "needs_background": "light"
     },
     "output_type": "display_data"
    }
   ],
   "source": [
    "plt.figure(figsize=(10,7))\n",
    "sns.heatmap(data=lr_cm, annot=True, cmap=\"Blues\", xticklabels=['Down', 'Up'], yticklabels=['Down', 'Up'])\n",
    "plt.xlabel('Predicted values')\n",
    "plt.ylabel('Actual values')\n",
    "plt.title('Confusion Matrix for Logistic Regression Algorithm')\n",
    "plt.show()"
   ]
  },
  {
   "cell_type": "code",
   "execution_count": 19,
   "id": "a94ce70f",
   "metadata": {
    "execution": {
     "iopub.execute_input": "2022-08-07T11:46:17.314865Z",
     "iopub.status.busy": "2022-08-07T11:46:17.314427Z",
     "iopub.status.idle": "2022-08-07T11:46:31.544401Z",
     "shell.execute_reply": "2022-08-07T11:46:31.543128Z"
    },
    "papermill": {
     "duration": 14.251057,
     "end_time": "2022-08-07T11:46:31.547104",
     "exception": false,
     "start_time": "2022-08-07T11:46:17.296047",
     "status": "completed"
    },
    "tags": []
   },
   "outputs": [],
   "source": [
    "from sklearn.ensemble import RandomForestClassifier\n",
    "rf_classifier = RandomForestClassifier(n_estimators=100, criterion='entropy')\n",
    "rf_classifier.fit(X_train, y_train)\n",
    "rf_y_pred = rf_classifier.predict(X_test)"
   ]
  },
  {
   "cell_type": "code",
   "execution_count": 20,
   "id": "3e5a0f08",
   "metadata": {
    "execution": {
     "iopub.execute_input": "2022-08-07T11:46:31.582894Z",
     "iopub.status.busy": "2022-08-07T11:46:31.582492Z",
     "iopub.status.idle": "2022-08-07T11:46:31.594535Z",
     "shell.execute_reply": "2022-08-07T11:46:31.593367Z"
    },
    "papermill": {
     "duration": 0.033293,
     "end_time": "2022-08-07T11:46:31.597413",
     "exception": false,
     "start_time": "2022-08-07T11:46:31.564120",
     "status": "completed"
    },
    "tags": []
   },
   "outputs": [
    {
     "name": "stdout",
     "output_type": "stream",
     "text": [
      "Accuracy score is: 83.07%\n",
      "Precision score is: 0.79\n",
      "Recall score is: 0.91\n"
     ]
    }
   ],
   "source": [
    "score1 = accuracy_score(y_test, rf_y_pred)\n",
    "score2 = precision_score(y_test, rf_y_pred)\n",
    "score3 = recall_score(y_test, rf_y_pred)\n",
    "print(\"Accuracy score is: {}%\".format(round(score1*100,2)))\n",
    "print(\"Precision score is: {}\".format(round(score2,2)))\n",
    "print(\"Recall score is: {}\".format(round(score3,2)))"
   ]
  },
  {
   "cell_type": "code",
   "execution_count": 21,
   "id": "4bd3c2c4",
   "metadata": {
    "execution": {
     "iopub.execute_input": "2022-08-07T11:46:31.633157Z",
     "iopub.status.busy": "2022-08-07T11:46:31.632753Z",
     "iopub.status.idle": "2022-08-07T11:46:31.642115Z",
     "shell.execute_reply": "2022-08-07T11:46:31.640746Z"
    },
    "papermill": {
     "duration": 0.030246,
     "end_time": "2022-08-07T11:46:31.644469",
     "exception": false,
     "start_time": "2022-08-07T11:46:31.614223",
     "status": "completed"
    },
    "tags": []
   },
   "outputs": [
    {
     "data": {
      "text/plain": [
       "array([[140,  46],\n",
       "       [ 18, 174]])"
      ]
     },
     "execution_count": 21,
     "metadata": {},
     "output_type": "execute_result"
    }
   ],
   "source": [
    "rf_cm = confusion_matrix(y_test, rf_y_pred)\n",
    "rf_cm"
   ]
  },
  {
   "cell_type": "code",
   "execution_count": 22,
   "id": "e8ba3688",
   "metadata": {
    "execution": {
     "iopub.execute_input": "2022-08-07T11:46:31.680997Z",
     "iopub.status.busy": "2022-08-07T11:46:31.680128Z",
     "iopub.status.idle": "2022-08-07T11:46:31.947199Z",
     "shell.execute_reply": "2022-08-07T11:46:31.945656Z"
    },
    "papermill": {
     "duration": 0.28851,
     "end_time": "2022-08-07T11:46:31.950105",
     "exception": false,
     "start_time": "2022-08-07T11:46:31.661595",
     "status": "completed"
    },
    "tags": []
   },
   "outputs": [
    {
     "data": {
      "image/png": "[encoded data removed]",
      "text/plain": [
       "<Figure size 720x504 with 2 Axes>"
      ]
     },
     "metadata": {
      "needs_background": "light"
     },
     "output_type": "display_data"
    }
   ],
   "source": [
    "plt.figure(figsize=(10,7))\n",
    "sns.heatmap(data=rf_cm, annot=True, cmap=\"Blues\", xticklabels=['Down', 'Up'], yticklabels=['Down', 'Up'])\n",
    "plt.xlabel('Predicted values')\n",
    "plt.ylabel('Actual values')\n",
    "plt.title('Confusion Matrix for Random Forest Algorithm')\n",
    "plt.show()"
   ]
  },
  {
   "cell_type": "code",
   "execution_count": 23,
   "id": "44735f01",
   "metadata": {
    "execution": {
     "iopub.execute_input": "2022-08-07T11:46:31.987514Z",
     "iopub.status.busy": "2022-08-07T11:46:31.987051Z",
     "iopub.status.idle": "2022-08-07T11:46:32.384717Z",
     "shell.execute_reply": "2022-08-07T11:46:32.383079Z"
    },
    "papermill": {
     "duration": 0.422059,
     "end_time": "2022-08-07T11:46:32.389632",
     "exception": false,
     "start_time": "2022-08-07T11:46:31.967573",
     "status": "completed"
    },
    "tags": []
   },
   "outputs": [],
   "source": [
    "from sklearn.naive_bayes import MultinomialNB\n",
    "nb_classifier = MultinomialNB()\n",
    "nb_classifier.fit(X_train, y_train)\n",
    "nb_y_pred = nb_classifier.predict(X_test)"
   ]
  },
  {
   "cell_type": "code",
   "execution_count": 24,
   "id": "11cca383",
   "metadata": {
    "execution": {
     "iopub.execute_input": "2022-08-07T11:46:32.480589Z",
     "iopub.status.busy": "2022-08-07T11:46:32.479868Z",
     "iopub.status.idle": "2022-08-07T11:46:32.499278Z",
     "shell.execute_reply": "2022-08-07T11:46:32.497212Z"
    },
    "papermill": {
     "duration": 0.069256,
     "end_time": "2022-08-07T11:46:32.502576",
     "exception": false,
     "start_time": "2022-08-07T11:46:32.433320",
     "status": "completed"
    },
    "tags": []
   },
   "outputs": [
    {
     "name": "stdout",
     "output_type": "stream",
     "text": [
      "Accuracy score is: 84.92%\n",
      "Precision score is: 0.86\n",
      "Recall score is: 0.84\n"
     ]
    }
   ],
   "source": [
    "score1 = accuracy_score(y_test, nb_y_pred)\n",
    "score2 = precision_score(y_test, nb_y_pred)\n",
    "score3 = recall_score(y_test, nb_y_pred)\n",
    "print(\"Accuracy score is: {}%\".format(round(score1*100,2)))\n",
    "print(\"Precision score is: {}\".format(round(score2,2)))\n",
    "print(\"Recall score is: {}\".format(round(score3,2)))"
   ]
  },
  {
   "cell_type": "code",
   "execution_count": 25,
   "id": "c373c507",
   "metadata": {
    "execution": {
     "iopub.execute_input": "2022-08-07T11:46:32.539724Z",
     "iopub.status.busy": "2022-08-07T11:46:32.538957Z",
     "iopub.status.idle": "2022-08-07T11:46:32.546039Z",
     "shell.execute_reply": "2022-08-07T11:46:32.545178Z"
    },
    "papermill": {
     "duration": 0.028288,
     "end_time": "2022-08-07T11:46:32.548325",
     "exception": false,
     "start_time": "2022-08-07T11:46:32.520037",
     "status": "completed"
    },
    "tags": []
   },
   "outputs": [
    {
     "data": {
      "text/plain": [
       "array([[159,  27],\n",
       "       [ 30, 162]])"
      ]
     },
     "execution_count": 25,
     "metadata": {},
     "output_type": "execute_result"
    }
   ],
   "source": [
    "nb_cm = confusion_matrix(y_test, nb_y_pred)\n",
    "nb_cm"
   ]
  },
  {
   "cell_type": "code",
   "execution_count": 26,
   "id": "054a5aa6",
   "metadata": {
    "execution": {
     "iopub.execute_input": "2022-08-07T11:46:32.585652Z",
     "iopub.status.busy": "2022-08-07T11:46:32.584787Z",
     "iopub.status.idle": "2022-08-07T11:46:33.018645Z",
     "shell.execute_reply": "2022-08-07T11:46:33.017441Z"
    },
    "papermill": {
     "duration": 0.455515,
     "end_time": "2022-08-07T11:46:33.021126",
     "exception": false,
     "start_time": "2022-08-07T11:46:32.565611",
     "status": "completed"
    },
    "tags": []
   },
   "outputs": [
    {
     "data": {
      "image/png": "[encoded data removed]",
      "text/plain": [
       "<Figure size 720x504 with 2 Axes>"
      ]
     },
     "metadata": {
      "needs_background": "light"
     },
     "output_type": "display_data"
    }
   ],
   "source": [
    "plt.figure(figsize=(10,7))\n",
    "sns.heatmap(data=nb_cm, annot=True, cmap=\"Blues\", xticklabels=['Down', 'Up'], yticklabels=['Down', 'Up'])\n",
    "plt.xlabel('Predicted values')\n",
    "plt.ylabel('Actual values')\n",
    "plt.title('Confusion Matrix for Multinomial Naive Bayes Algorithm')\n",
    "plt.show()"
   ]
  }
 ],
 "metadata": {
  "kernelspec": {
   "display_name": "Python 3 (ipykernel)",
   "language": "python",
   "name": "python3"
  },
  "language_info": {
   "codemirror_mode": {
    "name": "ipython",
    "version": 3
   },
   "file_extension": ".py",
   "mimetype": "text/x-python",
   "name": "python",
   "nbconvert_exporter": "python",
   "pygments_lexer": "ipython3",
   "version": "3.9.12"
  },
  "papermill": {
   "default_parameters": {},
   "duration": 235.276581,
   "end_time": "2022-08-07T11:46:34.281688",
   "environment_variables": {},
   "exception": null,
   "input_path": "__notebook__.ipynb",
   "output_path": "__notebook__.ipynb",
   "parameters": {},
   "start_time": "2022-08-07T11:42:39.005107",
   "version": "2.3.4"
  }
 },
 "nbformat": 4,
 "nbformat_minor": 5
}
